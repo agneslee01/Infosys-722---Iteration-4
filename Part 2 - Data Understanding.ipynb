{
 "cells": [
  {
   "cell_type": "code",
   "execution_count": 1,
   "id": "d9d456d9",
   "metadata": {},
   "outputs": [
    {
     "name": "stderr",
     "output_type": "stream",
     "text": [
      "WARNING: An illegal reflective access operation has occurred\n",
      "WARNING: Illegal reflective access by org.apache.spark.unsafe.Platform (file:/home/ubuntu/spark-3.2.1-bin-hadoop2.7/jars/spark-unsafe_2.12-3.2.1.jar) to constructor java.nio.DirectByteBuffer(long,int)\n",
      "WARNING: Please consider reporting this to the maintainers of org.apache.spark.unsafe.Platform\n",
      "WARNING: Use --illegal-access=warn to enable warnings of further illegal reflective access operations\n",
      "WARNING: All illegal access operations will be denied in a future release\n",
      "Using Spark's default log4j profile: org/apache/spark/log4j-defaults.properties\n",
      "Setting default log level to \"WARN\".\n",
      "To adjust logging level use sc.setLogLevel(newLevel). For SparkR, use setLogLevel(newLevel).\n",
      "24/05/22 03:37:18 WARN NativeCodeLoader: Unable to load native-hadoop library for your platform... using builtin-java classes where applicable\n"
     ]
    }
   ],
   "source": [
    "import findspark\n",
    "findspark.init('/home/ubuntu/spark-3.2.1-bin-hadoop2.7')\n",
    "import pyspark\n",
    "from pyspark.sql import SparkSession\n",
    "spark = SparkSession.builder.appName('basics').getOrCreate()"
   ]
  },
  {
   "cell_type": "code",
   "execution_count": 2,
   "id": "16b0026a",
   "metadata": {},
   "outputs": [],
   "source": [
    "# Read in dataset\n",
    "data = spark.read.csv('Dataset/heart_attack_dataset.csv', header=True, inferSchema=True)"
   ]
  },
  {
   "cell_type": "markdown",
   "id": "8ecb0387",
   "metadata": {},
   "source": [
    "## Describe the data"
   ]
  },
  {
   "cell_type": "code",
   "execution_count": 3,
   "id": "ef9146b8",
   "metadata": {},
   "outputs": [
    {
     "name": "stdout",
     "output_type": "stream",
     "text": [
      "root\n",
      " |-- Patient ID: string (nullable = true)\n",
      " |-- Age: integer (nullable = true)\n",
      " |-- Sex: string (nullable = true)\n",
      " |-- Cholesterol: integer (nullable = true)\n",
      " |-- Systolic: integer (nullable = true)\n",
      " |-- Diastolic : integer (nullable = true)\n",
      " |-- Heart Rate: integer (nullable = true)\n",
      " |-- Diabetes: integer (nullable = true)\n",
      " |-- Family History (1: Yes): integer (nullable = true)\n",
      " |-- Smoking: integer (nullable = true)\n",
      " |-- Obesity: integer (nullable = true)\n",
      " |-- Alcohol Consumption: integer (nullable = true)\n",
      " |-- Exercise Hours Per Week: double (nullable = true)\n",
      " |-- Diet: string (nullable = true)\n",
      " |-- Previous Heart Problems (1 : Yes): integer (nullable = true)\n",
      " |-- Medication Use: integer (nullable = true)\n",
      " |-- Stress Level: integer (nullable = true)\n",
      " |-- Sedentary Hours Per Day: double (nullable = true)\n",
      " |-- Income: integer (nullable = true)\n",
      " |-- BMI: double (nullable = true)\n",
      " |-- Triglycerides: integer (nullable = true)\n",
      " |-- Physical Activity Days Per Week: integer (nullable = true)\n",
      " |-- Sleep Hours Per Day: integer (nullable = true)\n",
      " |-- Country: string (nullable = true)\n",
      " |-- Continent: string (nullable = true)\n",
      " |-- Hemisphere: string (nullable = true)\n",
      " |-- Heart Attack Risk (1: Yes): integer (nullable = true)\n",
      "\n"
     ]
    }
   ],
   "source": [
    "data.printSchema()"
   ]
  },
  {
   "cell_type": "code",
   "execution_count": 4,
   "id": "593860c0",
   "metadata": {},
   "outputs": [
    {
     "name": "stdout",
     "output_type": "stream",
     "text": [
      "Number of rows: 2499\n",
      "Number of columns: 27\n"
     ]
    }
   ],
   "source": [
    "# Count the number of rows\n",
    "num_rows = data.count()\n",
    "\n",
    "# Count the number of columns\n",
    "num_columns = len(data.columns)\n",
    "\n",
    "# Print the results\n",
    "print(f\"Number of rows: {num_rows}\")\n",
    "print(f\"Number of columns: {num_columns}\")"
   ]
  },
  {
   "cell_type": "code",
   "execution_count": 5,
   "id": "fa23c683",
   "metadata": {},
   "outputs": [
    {
     "name": "stdout",
     "output_type": "stream",
     "text": [
      "+-------+------+-----------------------+-------------------+---------+\n",
      "|summary|   Age|Exercise Hours Per Week|Sleep Hours Per Day|   Income|\n",
      "+-------+------+-----------------------+-------------------+---------+\n",
      "|  count|2499.0|                 2496.0|             2497.0|   2499.0|\n",
      "|   mean| 53.55|                   9.98|                7.0|157514.21|\n",
      "| stddev| 21.29|                   5.78|               2.03| 80349.55|\n",
      "|    min|  18.0|                   0.01|                2.0|   5000.0|\n",
      "|    max| 103.0|                  40.55|               20.0| 299769.0|\n",
      "+-------+------+-----------------------+-------------------+---------+\n",
      "\n"
     ]
    }
   ],
   "source": [
    "from pyspark.sql.functions import round\n",
    "\n",
    "selected_columns = ['Age', 'Exercise Hours Per Week', 'Sleep Hours Per Day', 'Income']\n",
    "\n",
    "summary = data.select(selected_columns).describe()\n",
    "\n",
    "summary_rounded = summary.select(summary[\"summary\"],\n",
    "                                 *[round(summary[col], 2).alias(col) for col in selected_columns])\n",
    "\n",
    "\n",
    "# Show the summary statistics\n",
    "summary_rounded.show()\n"
   ]
  },
  {
   "cell_type": "code",
   "execution_count": 6,
   "id": "8c2ec8fd",
   "metadata": {},
   "outputs": [
    {
     "name": "stdout",
     "output_type": "stream",
     "text": [
      "+------+-----+\n",
      "|   Sex|count|\n",
      "+------+-----+\n",
      "|Female|  776|\n",
      "|  Male| 1723|\n",
      "+------+-----+\n",
      "\n"
     ]
    }
   ],
   "source": [
    "# Perform value counts for the variable \"Gender\"\n",
    "value_counts = data.groupBy(\"Sex\").count()\n",
    "\n",
    "# Show the value counts\n",
    "value_counts.show()"
   ]
  },
  {
   "cell_type": "code",
   "execution_count": 7,
   "id": "08f1c1f4",
   "metadata": {},
   "outputs": [
    {
     "name": "stdout",
     "output_type": "stream",
     "text": [
      "+------+--------+-----------+\n",
      "|   Sex|Mean_Age|Mean_Income|\n",
      "+------+--------+-----------+\n",
      "|Female|   52.25|  159931.71|\n",
      "|  Male|   54.14|  156425.42|\n",
      "+------+--------+-----------+\n",
      "\n"
     ]
    }
   ],
   "source": [
    "from pyspark.sql.functions import mean\n",
    "\n",
    "# Compute the mean values of Income and Age for each gender\n",
    "mean_values = data.groupBy(\"Sex\").agg(round(mean(\"Age\"), 2).alias(\"Mean_Age\"), round(mean(\"Income\"), 2).alias(\"Mean_Income\"))\n",
    "\n",
    "# Show the mean values\n",
    "mean_values.show()\n"
   ]
  },
  {
   "cell_type": "markdown",
   "id": "5d135fdf",
   "metadata": {},
   "source": [
    "## Explore the data"
   ]
  },
  {
   "cell_type": "code",
   "execution_count": 8,
   "id": "cab2bd49",
   "metadata": {},
   "outputs": [
    {
     "data": {
      "image/png": "[encoded data removed]",
      "text/plain": [
       "<Figure size 720x432 with 1 Axes>"
      ]
     },
     "metadata": {
      "needs_background": "light"
     },
     "output_type": "display_data"
    }
   ],
   "source": [
    "import matplotlib.pyplot as plt\n",
    "\n",
    "# Compute the distribution of the \"Country\" variable\n",
    "country_distribution = data.groupBy(\"Country\").count()\n",
    "\n",
    "country_distribution_local = country_distribution.toLocalIterator()\n",
    "\n",
    "# Prepare data for plotting\n",
    "countries = []\n",
    "counts = []\n",
    "for row in country_distribution_local:\n",
    "    countries.append(row[\"Country\"])\n",
    "    counts.append(row[\"count\"])\n",
    "\n",
    "# Plot the bar graph\n",
    "plt.figure(figsize=(10, 6))\n",
    "plt.bar(countries, counts, color='skyblue')\n",
    "plt.xlabel('Country')\n",
    "plt.ylabel('Count')\n",
    "plt.title('Distribution of Country')\n",
    "plt.xticks(rotation=45, ha='right', fontsize=12)  # Rotate x-axis labels and align to the right\n",
    "plt.tight_layout()  # Adjust subplots to fit into the figure area\n",
    "plt.show()"
   ]
  },
  {
   "cell_type": "code",
   "execution_count": 9,
   "id": "db3c0765",
   "metadata": {},
   "outputs": [
    {
     "data": {
      "image/png": "[encoded data removed]",
      "text/plain": [
       "<Figure size 432x288 with 1 Axes>"
      ]
     },
     "metadata": {
      "needs_background": "light"
     },
     "output_type": "display_data"
    }
   ],
   "source": [
    "from pyspark.sql.functions import col\n",
    "\n",
    "# Compute the distribution of the \"Gender\" variable\n",
    "gender_distribution = data.groupBy(\"Sex\").count()\n",
    "\n",
    "# Compute the total count\n",
    "total_count = data.count()\n",
    "\n",
    "# Compute the percentage distribution\n",
    "gender_percentage = gender_distribution.withColumn(\"Percentage\", (col(\"count\") / total_count) * 100)\n",
    "\n",
    "\n",
    "gender_percentage_local = gender_percentage.collect()\n",
    "\n",
    "# Prepare data for plotting\n",
    "genders = [row[\"Sex\"] for row in gender_percentage_local]\n",
    "percentages = [row[\"Percentage\"] for row in gender_percentage_local]\n",
    "\n",
    "# Plot the percentage distribution\n",
    "plt.bar(genders, percentages, color='orange')\n",
    "plt.xlabel('Sex')\n",
    "plt.ylabel('Percentage')\n",
    "plt.title('Percentage Distribution of Gender')\n",
    "plt.ylim(0, 80)  # Set y-axis limits to 0-100%\n",
    "plt.tight_layout()  # Adjust subplots to fit into the figure area\n",
    "plt.show()"
   ]
  },
  {
   "cell_type": "code",
   "execution_count": 10,
   "id": "105621ef",
   "metadata": {},
   "outputs": [
    {
     "data": {
      "image/png": "[encoded data removed]",
      "text/plain": [
       "<Figure size 720x432 with 1 Axes>"
      ]
     },
     "metadata": {
      "needs_background": "light"
     },
     "output_type": "display_data"
    }
   ],
   "source": [
    "# Compute the count of stress levels for each gender\n",
    "count_stress_by_gender = data.groupBy(\"Sex\", \"Stress Level\").count().orderBy(\"Sex\", \"Stress Level\")\n",
    "\n",
    "# Collect data locally for plotting\n",
    "count_stress_by_gender_local = count_stress_by_gender.collect()\n",
    "\n",
    "# Prepare data for plotting\n",
    "genders = list(set(row[\"Sex\"] for row in count_stress_by_gender_local))\n",
    "stress_levels = sorted(set(row[\"Stress Level\"] for row in count_stress_by_gender_local if row[\"Stress Level\"] is not None))\n",
    "count_matrix = [[row[\"count\"] for row in count_stress_by_gender_local if row[\"Sex\"] == gender] for gender in genders]\n",
    "\n",
    "# Get the maximum count of stress levels across genders\n",
    "max_count = max(len(counts) for counts in count_matrix)\n",
    "\n",
    "# Pad count_matrix with zeros if the count of stress levels is not consistent across genders\n",
    "count_matrix_padded = [counts + [0] * (max_count - len(counts)) for counts in count_matrix]\n",
    "\n",
    "# Plot the count of stress levels by gender\n",
    "plt.figure(figsize=(10, 6))\n",
    "for i, gender in enumerate(genders):\n",
    "    plt.bar([x + i * 0.2 for x in range(max_count)], count_matrix_padded[i], width=0.2, label=gender)\n",
    "plt.xlabel('Stress Level')\n",
    "plt.ylabel('Count')\n",
    "plt.title('Count of Stress Levels by Gender')\n",
    "#plt.xticks([x  + bar_width/ 2 for x in range(len(stress_levels))], stress_levels)\n",
    "plt.legend()\n",
    "plt.tight_layout()\n",
    "plt.show()"
   ]
  },
  {
   "cell_type": "code",
   "execution_count": 11,
   "id": "ca83109a",
   "metadata": {},
   "outputs": [
    {
     "data": {
      "image/png": "[encoded data removed]",
      "text/plain": [
       "<Figure size 576x576 with 1 Axes>"
      ]
     },
     "metadata": {},
     "output_type": "display_data"
    }
   ],
   "source": [
    "# Group the DataFrame by \"Diet\" and count the occurrences\n",
    "diet_counts = data.groupBy(\"Diet\").count().orderBy(\"Diet\")\n",
    "\n",
    "\n",
    "diet_counts_local = diet_counts.collect()\n",
    "\n",
    "# Prepare data for plotting\n",
    "diets = [row[\"Diet\"] for row in diet_counts_local]\n",
    "counts = [row[\"count\"] for row in diet_counts_local]\n",
    "\n",
    "# Plot the pie chart\n",
    "plt.figure(figsize=(8, 8))\n",
    "plt.pie(counts, labels=diets, autopct='%1.1f%%', startangle=140)\n",
    "plt.title('Diet Distribution')\n",
    "plt.show()"
   ]
  },
  {
   "cell_type": "markdown",
   "id": "2f5bd0e0",
   "metadata": {},
   "source": [
    "## Verify Data Quality"
   ]
  },
  {
   "cell_type": "code",
   "execution_count": 12,
   "id": "d8e6a118",
   "metadata": {},
   "outputs": [
    {
     "name": "stdout",
     "output_type": "stream",
     "text": [
      "+-----------------------+------------+-----------------------+---+-------------------+\n",
      "|Exercise Hours Per Week|Stress Level|Sedentary Hours Per Day|BMI|Sleep Hours Per Day|\n",
      "+-----------------------+------------+-----------------------+---+-------------------+\n",
      "|                      3|           1|                      2|  3|                  2|\n",
      "+-----------------------+------------+-----------------------+---+-------------------+\n",
      "\n"
     ]
    }
   ],
   "source": [
    "from pyspark.sql.functions import col, sum as spark_sum\n",
    "\n",
    "# List of columns to check for missing values\n",
    "columns = data.columns\n",
    "\n",
    "# Create a DataFrame to store the count of missing values for each column\n",
    "missing_values = data.select([spark_sum(col(c).isNull().cast(\"int\")).alias(c) for c in columns])\n",
    "\n",
    "# Filter columns with missing values\n",
    "missing_columns = missing_values.columns\n",
    "missing_columns_with_values = [col_name for col_name in missing_columns if missing_values.select(col_name).head()[col_name] > 0]\n",
    "\n",
    "# Create a new DataFrame with columns that have missing values\n",
    "missing_values_filtered = missing_values.select(*missing_columns_with_values)\n",
    "\n",
    "# Show the count of missing values for columns with missing values\n",
    "missing_values_filtered.show()"
   ]
  },
  {
   "cell_type": "code",
   "execution_count": 23,
   "id": "8812409d",
   "metadata": {},
   "outputs": [
    {
     "name": "stdout",
     "output_type": "stream",
     "text": [
      "+-----------------------+-------------+\n",
      "|Column                 |Outlier Count|\n",
      "+-----------------------+-------------+\n",
      "|Heart Rate             |1            |\n",
      "|Smoking                |276          |\n",
      "|Exercise Hours Per Week|1            |\n",
      "|Stress Level           |1            |\n",
      "|Sleep Hours Per Day    |1            |\n",
      "+-----------------------+-------------+\n",
      "\n"
     ]
    }
   ],
   "source": [
    "from pyspark.sql.types import IntegerType, DoubleType, StructType, StructField, StringType\n",
    "\n",
    "# Function to calculate outliers for a column\n",
    "def calculate_outliers(data, column):\n",
    "    # Calculate Q1 and Q3\n",
    "    quantiles = data.approxQuantile(column, [0.25, 0.75], 0.01)\n",
    "    Q1, Q3 = quantiles[0], quantiles[1]\n",
    "    IQR = Q3 - Q1\n",
    "    lower_bound = Q1 - 1.5 * IQR\n",
    "    upper_bound = Q3 + 1.5 * IQR\n",
    "    \n",
    "    # Filter outliers\n",
    "    outliers = data.filter((col(column) < lower_bound) | (col(column) > upper_bound))\n",
    "    outlier_count = outliers.count()\n",
    "    \n",
    "    return outlier_count\n",
    "\n",
    "# List to store outlier counts\n",
    "outlier_counts = []\n",
    "\n",
    "# Iterate through each column\n",
    "for column in data.columns:\n",
    "    # Check if the column is of numeric type (integer or double)\n",
    "    if isinstance(data.schema[column].dataType, (IntegerType, DoubleType)):\n",
    "        outlier_count = calculate_outliers(data, column)\n",
    "        if outlier_count > 0:\n",
    "            outlier_counts.append((column, outlier_count))\n",
    "\n",
    "# Define schema for the results DataFrame\n",
    "schema = StructType([\n",
    "    StructField(\"Column\", StringType(), True),\n",
    "    StructField(\"Outlier Count\", IntegerType(), True)\n",
    "])\n",
    "\n",
    "# Create DataFrame from the results\n",
    "outlier_df = spark.createDataFrame(outlier_counts, schema)\n",
    "\n",
    "# Show the results in tabular format\n",
    "outlier_df.show(truncate=False)\n"
   ]
  },
  {
   "cell_type": "code",
   "execution_count": 24,
   "id": "fcdd85e4",
   "metadata": {},
   "outputs": [
    {
     "name": "stdout",
     "output_type": "stream",
     "text": [
      "+-------+-----+\n",
      "|Smoking|count|\n",
      "+-------+-----+\n",
      "|      1| 2223|\n",
      "|      0|  276|\n",
      "+-------+-----+\n",
      "\n"
     ]
    }
   ],
   "source": [
    "# Perform value counts for the variable \"Gender\"\n",
    "value_counts1 = data.groupBy(\"Smoking\").count()\n",
    "\n",
    "# Show the value counts\n",
    "value_counts1.show()"
   ]
  },
  {
   "cell_type": "code",
   "execution_count": 28,
   "id": "721e45a3",
   "metadata": {},
   "outputs": [
    {
     "name": "stdout",
     "output_type": "stream",
     "text": [
      "Heart Rate has an extreme value: 200\n",
      "Exercise Hours Per Week has an extreme value: 40.546388\n",
      "Stress Level has an extreme value: 20\n",
      "Sleep Hours Per Day has an extreme value: 20\n"
     ]
    }
   ],
   "source": [
    "# Function to find extreme values for a column\n",
    "def find_extreme_values(data, column):\n",
    "    # Calculate Q1 and Q3\n",
    "    quantiles = data.approxQuantile(column, [0.25, 0.75], 0.01)\n",
    "    Q1, Q3 = quantiles[0], quantiles[1]\n",
    "    IQR = Q3 - Q1\n",
    "    lower_bound = Q1 - 1.5 * IQR\n",
    "    upper_bound = Q3 + 1.5 * IQR\n",
    "    \n",
    "    # Filter extreme values\n",
    "    extreme_values_df = data.filter((col(column) < lower_bound) | (col(column) > upper_bound))\n",
    "    return extreme_values_df\n",
    "\n",
    "exclude_columns = [\"Smoking\"]\n",
    "\n",
    "# Iterate through each column and find extreme values if the column is numeric\n",
    "for column in data.columns:\n",
    "    if column not in exclude_columns and isinstance(data.schema[column].dataType, (IntegerType, DoubleType)):\n",
    "        extreme_values_df = find_extreme_values(data, column)\n",
    "        if extreme_values_df.count() > 0:\n",
    "            extreme_value = extreme_values_df.select(column).head()[0]\n",
    "            print(f\"{column} has an extreme value: {extreme_value}\")"
   ]
  }
 ],
 "metadata": {
  "kernelspec": {
   "display_name": "Python 3 (ipykernel)",
   "language": "python",
   "name": "python3"
  },
  "language_info": {
   "codemirror_mode": {
    "name": "ipython",
    "version": 3
   },
   "file_extension": ".py",
   "mimetype": "text/x-python",
   "name": "python",
   "nbconvert_exporter": "python",
   "pygments_lexer": "ipython3",
   "version": "3.10.4"
  }
 },
 "nbformat": 4,
 "nbformat_minor": 5
}
