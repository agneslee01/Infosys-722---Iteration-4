{
 "cells": [
  {
   "cell_type": "code",
   "execution_count": 1,
   "id": "332a278c",
   "metadata": {},
   "outputs": [
    {
     "name": "stderr",
     "output_type": "stream",
     "text": [
      "WARNING: An illegal reflective access operation has occurred\n",
      "WARNING: Illegal reflective access by org.apache.spark.unsafe.Platform (file:/home/ubuntu/spark-3.2.1-bin-hadoop2.7/jars/spark-unsafe_2.12-3.2.1.jar) to constructor java.nio.DirectByteBuffer(long,int)\n",
      "WARNING: Please consider reporting this to the maintainers of org.apache.spark.unsafe.Platform\n",
      "WARNING: Use --illegal-access=warn to enable warnings of further illegal reflective access operations\n",
      "WARNING: All illegal access operations will be denied in a future release\n",
      "Using Spark's default log4j profile: org/apache/spark/log4j-defaults.properties\n",
      "Setting default log level to \"WARN\".\n",
      "To adjust logging level use sc.setLogLevel(newLevel). For SparkR, use setLogLevel(newLevel).\n",
      "24/05/23 16:04:42 WARN NativeCodeLoader: Unable to load native-hadoop library for your platform... using builtin-java classes where applicable\n"
     ]
    }
   ],
   "source": [
    "import findspark\n",
    "findspark.init('/home/ubuntu/spark-3.2.1-bin-hadoop2.7')\n",
    "import pyspark\n",
    "from pyspark.sql import SparkSession\n",
    "spark = SparkSession.builder.appName('basics').getOrCreate()"
   ]
  },
  {
   "cell_type": "code",
   "execution_count": 2,
   "id": "b1f92ef0",
   "metadata": {},
   "outputs": [],
   "source": [
    "# Read in dataset\n",
    "data = spark.read.csv('Dataset/new_data.csv', header=True, inferSchema=True)"
   ]
  },
  {
   "cell_type": "code",
   "execution_count": 3,
   "id": "291d17d6",
   "metadata": {
    "scrolled": true
   },
   "outputs": [
    {
     "name": "stdout",
     "output_type": "stream",
     "text": [
      "root\n",
      " |-- Heart Attack Risk (1: Yes): integer (nullable = true)\n",
      " |-- Income: integer (nullable = true)\n",
      " |-- Cholesterol: integer (nullable = true)\n",
      " |-- Country_indexed: integer (nullable = true)\n",
      " |-- Diastolic: integer (nullable = true)\n",
      " |-- Exercise Hours Per Week: double (nullable = true)\n",
      " |-- Heart Rate: integer (nullable = true)\n",
      " |-- Triglycerides: integer (nullable = true)\n",
      " |-- BMI: double (nullable = true)\n",
      " |-- Sedentary Hours Per Day: double (nullable = true)\n",
      " |-- Age: integer (nullable = true)\n",
      " |-- Stress Level: integer (nullable = true)\n",
      "\n"
     ]
    }
   ],
   "source": [
    "data.printSchema()"
   ]
  },
  {
   "cell_type": "markdown",
   "id": "8d70c50b",
   "metadata": {},
   "source": [
    "## 1st Iteration"
   ]
  },
  {
   "cell_type": "code",
   "execution_count": 4,
   "id": "655c18d8",
   "metadata": {},
   "outputs": [],
   "source": [
    "data1 = data.drop(\"Stress Level\", \"Sedentary Hours Per Day\", \"Cholesterol\", \"Heart Rate\" )"
   ]
  },
  {
   "cell_type": "code",
   "execution_count": 5,
   "id": "cf788d07",
   "metadata": {},
   "outputs": [
    {
     "name": "stdout",
     "output_type": "stream",
     "text": [
      "root\n",
      " |-- Heart Attack Risk (1: Yes): integer (nullable = true)\n",
      " |-- Income: integer (nullable = true)\n",
      " |-- Country_indexed: integer (nullable = true)\n",
      " |-- Diastolic: integer (nullable = true)\n",
      " |-- Exercise Hours Per Week: double (nullable = true)\n",
      " |-- Triglycerides: integer (nullable = true)\n",
      " |-- BMI: double (nullable = true)\n",
      " |-- Age: integer (nullable = true)\n",
      "\n"
     ]
    }
   ],
   "source": [
    "data1.printSchema()"
   ]
  },
  {
   "cell_type": "code",
   "execution_count": 6,
   "id": "dc9bd18a",
   "metadata": {},
   "outputs": [],
   "source": [
    "from pyspark.sql.functions import col\n",
    "from pyspark.ml.feature import VectorAssembler\n",
    "\n",
    "# Assuming 'data' is your original DataFrame\n",
    "target_column = \"Heart Attack Risk (1: Yes)\"\n",
    "feature_columns = [col for col in data1.columns if col != target_column]\n",
    "\n",
    "# Combine feature columns into a single vector column\n",
    "assembler = VectorAssembler(inputCols=feature_columns, outputCol=\"features\")\n",
    "data1 = assembler.transform(data1).select(\"features\", target_column)\n",
    "\n",
    "# Split the assembled data into training and testing sets\n",
    "train_data, test_data = data1.randomSplit([0.8, 0.2], seed=42)"
   ]
  },
  {
   "cell_type": "code",
   "execution_count": 7,
   "id": "a3a43ae3",
   "metadata": {},
   "outputs": [
    {
     "name": "stderr",
     "output_type": "stream",
     "text": [
      "24/05/23 16:04:52 WARN InstanceBuilder$NativeBLAS: Failed to load implementation from:dev.ludovic.netlib.blas.JNIBLAS\n",
      "24/05/23 16:04:52 WARN InstanceBuilder$NativeBLAS: Failed to load implementation from:dev.ludovic.netlib.blas.ForeignLinkerBLAS\n"
     ]
    },
    {
     "name": "stdout",
     "output_type": "stream",
     "text": [
      "Training Accuracy: 0.53\n",
      "Testing Accuracy: 0.47\n"
     ]
    }
   ],
   "source": [
    "from pyspark.ml.classification import LogisticRegression\n",
    "from pyspark.ml.evaluation import MulticlassClassificationEvaluator\n",
    "from pyspark.sql.functions import expr\n",
    "\n",
    "# Fit the Logistic Regression model\n",
    "lr = LogisticRegression(labelCol=target_column, featuresCol=\"features\")\n",
    "lr_model = lr.fit(train_data)\n",
    "\n",
    "# Make predictions on the training and testing sets\n",
    "train_predictions = lr_model.transform(train_data)\n",
    "test_predictions = lr_model.transform(test_data)\n",
    "\n",
    "# Define the evaluator for accuracy\n",
    "evaluator = MulticlassClassificationEvaluator(\n",
    "    labelCol=target_column, predictionCol=\"prediction\", metricName=\"accuracy\"\n",
    ")\n",
    "\n",
    "# Calculate accuracy scores for training and testing sets\n",
    "train_accuracy = evaluator.evaluate(train_predictions)\n",
    "test_accuracy = evaluator.evaluate(test_predictions)\n",
    "\n",
    "# Print accuracy scores\n",
    "print(f\"Training Accuracy: {train_accuracy:.2f}\")\n",
    "print(f\"Testing Accuracy: {test_accuracy:.2f}\")"
   ]
  },
  {
   "cell_type": "code",
   "execution_count": 8,
   "id": "0792ce2d",
   "metadata": {},
   "outputs": [
    {
     "name": "stdout",
     "output_type": "stream",
     "text": [
      "+----------+---+---+\n",
      "|prediction|  0|  1|\n",
      "+----------+---+---+\n",
      "|       0.0| 29| 34|\n",
      "|       1.0| 52| 47|\n",
      "+----------+---+---+\n",
      "\n"
     ]
    }
   ],
   "source": [
    "# Create a cross-tabulation of predicted vs. actual classes for the test set\n",
    "cross_tab = test_predictions.groupBy(\"prediction\").pivot(target_column).count()\n",
    "\n",
    "# Display the cross-tabulation\n",
    "cross_tab.show()"
   ]
  },
  {
   "cell_type": "markdown",
   "id": "26459d80",
   "metadata": {},
   "source": [
    "## 2nd Iteration"
   ]
  },
  {
   "cell_type": "code",
   "execution_count": 12,
   "id": "ef0113a4",
   "metadata": {},
   "outputs": [],
   "source": [
    "boost_data = data.sample(withReplacement=True, fraction=2.0, seed = 42)"
   ]
  },
  {
   "cell_type": "code",
   "execution_count": 13,
   "id": "fbcfbe74",
   "metadata": {},
   "outputs": [
    {
     "name": "stdout",
     "output_type": "stream",
     "text": [
      "Number of rows: 2022\n",
      "Number of columns: 12\n"
     ]
    }
   ],
   "source": [
    "print(f\"Number of rows: {boost_data.count()}\")\n",
    "print(f\"Number of columns: {len(boost_data.columns)}\")"
   ]
  },
  {
   "cell_type": "code",
   "execution_count": 14,
   "id": "081c9e75",
   "metadata": {},
   "outputs": [],
   "source": [
    "data2 = boost_data.drop(\"Stress Level\", \"Sedentary Hours Per Day\", \"Cholesterol\", \"Heart Rate\" )"
   ]
  },
  {
   "cell_type": "code",
   "execution_count": 15,
   "id": "69cd00cb",
   "metadata": {},
   "outputs": [
    {
     "name": "stdout",
     "output_type": "stream",
     "text": [
      "root\n",
      " |-- Heart Attack Risk (1: Yes): integer (nullable = true)\n",
      " |-- Income: integer (nullable = true)\n",
      " |-- Country_indexed: integer (nullable = true)\n",
      " |-- Diastolic: integer (nullable = true)\n",
      " |-- Exercise Hours Per Week: double (nullable = true)\n",
      " |-- Triglycerides: integer (nullable = true)\n",
      " |-- BMI: double (nullable = true)\n",
      " |-- Age: integer (nullable = true)\n",
      "\n",
      "Number of rows: 2022\n",
      "Number of columns: 8\n"
     ]
    }
   ],
   "source": [
    "data2.printSchema()\n",
    "print(f\"Number of rows: {data2.count()}\")\n",
    "print(f\"Number of columns: {len(data2.columns)}\")"
   ]
  },
  {
   "cell_type": "code",
   "execution_count": 16,
   "id": "28be52c0",
   "metadata": {},
   "outputs": [],
   "source": [
    "from pyspark.sql.functions import col\n",
    "from pyspark.ml.feature import VectorAssembler\n",
    "\n",
    "# Assuming 'data' is your original DataFrame\n",
    "target_column = \"Heart Attack Risk (1: Yes)\"\n",
    "feature_columns = [col for col in data2.columns if col != target_column]\n",
    "\n",
    "# Combine feature columns into a single vector column\n",
    "assembler = VectorAssembler(inputCols=feature_columns, outputCol=\"features\")\n",
    "data2 = assembler.transform(data2).select(\"features\", target_column)\n",
    "\n",
    "# Split the assembled data into training and testing sets\n",
    "train_data, test_data = data2.randomSplit([0.8, 0.2], seed=42)"
   ]
  },
  {
   "cell_type": "code",
   "execution_count": 17,
   "id": "f71cc3c5",
   "metadata": {},
   "outputs": [
    {
     "name": "stderr",
     "output_type": "stream",
     "text": [
      "24/05/23 16:11:01 WARN BlockManager: Asked to remove block broadcast_53_piece0, which does not exist\n"
     ]
    },
    {
     "name": "stdout",
     "output_type": "stream",
     "text": [
      "Training Accuracy: 0.53\n",
      "Testing Accuracy: 0.51\n"
     ]
    }
   ],
   "source": [
    "# Fit the Logistic Regression model\n",
    "lr = LogisticRegression(labelCol=target_column, featuresCol=\"features\")\n",
    "lr_model = lr.fit(train_data)\n",
    "\n",
    "# Make predictions on the training and testing sets\n",
    "train_predictions = lr_model.transform(train_data)\n",
    "test_predictions = lr_model.transform(test_data)\n",
    "\n",
    "# Define the evaluator for accuracy\n",
    "evaluator = MulticlassClassificationEvaluator(\n",
    "    labelCol=target_column, predictionCol=\"prediction\", metricName=\"accuracy\"\n",
    ")\n",
    "\n",
    "# Calculate accuracy scores for training and testing sets\n",
    "train_accuracy = evaluator.evaluate(train_predictions)\n",
    "test_accuracy = evaluator.evaluate(test_predictions)\n",
    "\n",
    "# Print accuracy scores\n",
    "print(f\"Training Accuracy: {train_accuracy:.2f}\")\n",
    "print(f\"Testing Accuracy: {test_accuracy:.2f}\")"
   ]
  },
  {
   "cell_type": "code",
   "execution_count": 18,
   "id": "857ec376",
   "metadata": {
    "scrolled": true
   },
   "outputs": [
    {
     "name": "stdout",
     "output_type": "stream",
     "text": [
      "+----------+---+---+\n",
      "|prediction|  0|  1|\n",
      "+----------+---+---+\n",
      "|       0.0| 65| 77|\n",
      "|       1.0|101|117|\n",
      "+----------+---+---+\n",
      "\n"
     ]
    }
   ],
   "source": [
    "# Create a cross-tabulation of predicted vs. actual classes for the test set\n",
    "cross_tab = test_predictions.groupBy(\"prediction\").pivot(target_column).count()\n",
    "\n",
    "# Display the cross-tabulation\n",
    "cross_tab.show()"
   ]
  },
  {
   "cell_type": "markdown",
   "id": "bc81ec01",
   "metadata": {},
   "source": [
    "## 3rd Iteration"
   ]
  },
  {
   "cell_type": "code",
   "execution_count": 19,
   "id": "c40a440a",
   "metadata": {},
   "outputs": [],
   "source": [
    "from pyspark.sql.functions import col\n",
    "from pyspark.ml.feature import VectorAssembler\n",
    "\n",
    "# Assuming 'data' is your original DataFrame\n",
    "target_column = \"Heart Attack Risk (1: Yes)\"\n",
    "feature_columns = [col for col in boost_data.columns if col != target_column]\n",
    "\n",
    "# Combine feature columns into a single vector column\n",
    "assembler = VectorAssembler(inputCols=feature_columns, outputCol=\"features\")\n",
    "data3 = assembler.transform(boost_data).select(\"features\", target_column)\n",
    "\n",
    "# Split the assembled data into training and testing sets\n",
    "train_data, test_data = data3.randomSplit([0.8, 0.2], seed=42)"
   ]
  },
  {
   "cell_type": "code",
   "execution_count": 21,
   "id": "ee51755e",
   "metadata": {},
   "outputs": [
    {
     "name": "stdout",
     "output_type": "stream",
     "text": [
      "Training Accuracy: 0.55\n",
      "Testing Accuracy: 0.51\n",
      "+----------+---+---+\n",
      "|prediction|  0|  1|\n",
      "+----------+---+---+\n",
      "|       0.0| 73| 84|\n",
      "|       1.0| 93|110|\n",
      "+----------+---+---+\n",
      "\n"
     ]
    }
   ],
   "source": [
    "# Fit the Logistic Regression model\n",
    "lr = LogisticRegression(labelCol=target_column, featuresCol=\"features\")\n",
    "lr_model = lr.fit(train_data)\n",
    "\n",
    "# Make predictions on the training and testing sets\n",
    "train_predictions = lr_model.transform(train_data)\n",
    "test_predictions = lr_model.transform(test_data)\n",
    "\n",
    "# Define the evaluator for accuracy\n",
    "evaluator = MulticlassClassificationEvaluator(\n",
    "    labelCol=target_column, predictionCol=\"prediction\", metricName=\"accuracy\"\n",
    ")\n",
    "\n",
    "# Calculate accuracy scores for training and testing sets\n",
    "train_accuracy = evaluator.evaluate(train_predictions)\n",
    "test_accuracy = evaluator.evaluate(test_predictions)\n",
    "\n",
    "# Print accuracy scores\n",
    "print(f\"Training Accuracy: {train_accuracy:.2f}\")\n",
    "print(f\"Testing Accuracy: {test_accuracy:.2f}\")\n",
    "\n",
    "# Create a cross-tabulation of predicted vs. actual classes for the test set\n",
    "cross_tab = test_predictions.groupBy(\"prediction\").pivot(target_column).count()\n",
    "\n",
    "# Display the cross-tabulation\n",
    "cross_tab.show()"
   ]
  }
 ],
 "metadata": {
  "kernelspec": {
   "display_name": "Python 3 (ipykernel)",
   "language": "python",
   "name": "python3"
  },
  "language_info": {
   "codemirror_mode": {
    "name": "ipython",
    "version": 3
   },
   "file_extension": ".py",
   "mimetype": "text/x-python",
   "name": "python",
   "nbconvert_exporter": "python",
   "pygments_lexer": "ipython3",
   "version": "3.10.4"
  }
 },
 "nbformat": 4,
 "nbformat_minor": 5
}
