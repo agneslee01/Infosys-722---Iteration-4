{
 "cells": [
  {
   "cell_type": "code",
   "execution_count": 1,
   "id": "6f968fe2",
   "metadata": {},
   "outputs": [
    {
     "name": "stderr",
     "output_type": "stream",
     "text": [
      "WARNING: An illegal reflective access operation has occurred\n",
      "WARNING: Illegal reflective access by org.apache.spark.unsafe.Platform (file:/home/ubuntu/spark-3.2.1-bin-hadoop2.7/jars/spark-unsafe_2.12-3.2.1.jar) to constructor java.nio.DirectByteBuffer(long,int)\n",
      "WARNING: Please consider reporting this to the maintainers of org.apache.spark.unsafe.Platform\n",
      "WARNING: Use --illegal-access=warn to enable warnings of further illegal reflective access operations\n",
      "WARNING: All illegal access operations will be denied in a future release\n",
      "Using Spark's default log4j profile: org/apache/spark/log4j-defaults.properties\n",
      "Setting default log level to \"WARN\".\n",
      "To adjust logging level use sc.setLogLevel(newLevel). For SparkR, use setLogLevel(newLevel).\n",
      "24/05/22 09:12:02 WARN NativeCodeLoader: Unable to load native-hadoop library for your platform... using builtin-java classes where applicable\n"
     ]
    }
   ],
   "source": [
    "import findspark\n",
    "findspark.init('/home/ubuntu/spark-3.2.1-bin-hadoop2.7')\n",
    "import pyspark\n",
    "from pyspark.sql import SparkSession\n",
    "spark = SparkSession.builder.appName('basics').getOrCreate()"
   ]
  },
  {
   "cell_type": "code",
   "execution_count": 2,
   "id": "949f740b",
   "metadata": {},
   "outputs": [],
   "source": [
    "# Read in dataset\n",
    "data = spark.read.csv('Dataset/heart_attack_dataset.csv', header=True, inferSchema=True)"
   ]
  },
  {
   "cell_type": "markdown",
   "id": "f50adcf8",
   "metadata": {},
   "source": [
    "## Data Selection"
   ]
  },
  {
   "cell_type": "code",
   "execution_count": 3,
   "id": "45dedaff",
   "metadata": {},
   "outputs": [
    {
     "name": "stdout",
     "output_type": "stream",
     "text": [
      "root\n",
      " |-- Age: integer (nullable = true)\n",
      " |-- Sex: string (nullable = true)\n",
      " |-- Cholesterol: integer (nullable = true)\n",
      " |-- Systolic: integer (nullable = true)\n",
      " |-- Diastolic : integer (nullable = true)\n",
      " |-- Heart Rate: integer (nullable = true)\n",
      " |-- Diabetes: integer (nullable = true)\n",
      " |-- Family History (1: Yes): integer (nullable = true)\n",
      " |-- Smoking: integer (nullable = true)\n",
      " |-- Obesity: integer (nullable = true)\n",
      " |-- Alcohol Consumption: integer (nullable = true)\n",
      " |-- Exercise Hours Per Week: double (nullable = true)\n",
      " |-- Diet: string (nullable = true)\n",
      " |-- Previous Heart Problems (1 : Yes): integer (nullable = true)\n",
      " |-- Medication Use: integer (nullable = true)\n",
      " |-- Stress Level: integer (nullable = true)\n",
      " |-- Sedentary Hours Per Day: double (nullable = true)\n",
      " |-- Income: integer (nullable = true)\n",
      " |-- BMI: double (nullable = true)\n",
      " |-- Triglycerides: integer (nullable = true)\n",
      " |-- Physical Activity Days Per Week: integer (nullable = true)\n",
      " |-- Sleep Hours Per Day: integer (nullable = true)\n",
      " |-- Country: string (nullable = true)\n",
      " |-- Continent: string (nullable = true)\n",
      " |-- Hemisphere: string (nullable = true)\n",
      " |-- Heart Attack Risk (1: Yes): integer (nullable = true)\n",
      "\n"
     ]
    }
   ],
   "source": [
    "# Drop a column\n",
    "column_to_drop = \"Patient ID\"\n",
    "data = data.drop(column_to_drop)\n",
    "\n",
    "# Show the resulting DataFrame\n",
    "data.printSchema()"
   ]
  },
  {
   "cell_type": "code",
   "execution_count": 4,
   "id": "925c0dca",
   "metadata": {},
   "outputs": [
    {
     "name": "stdout",
     "output_type": "stream",
     "text": [
      "Number of columns: 26\n"
     ]
    }
   ],
   "source": [
    "# Count the number of columns\n",
    "num_columns = len(data.columns)\n",
    "\n",
    "# Print the results\n",
    "print(f\"Number of columns: {num_columns}\")"
   ]
  },
  {
   "cell_type": "code",
   "execution_count": 5,
   "id": "b0cc76f5",
   "metadata": {},
   "outputs": [
    {
     "name": "stdout",
     "output_type": "stream",
     "text": [
      "+--------------------------+-----+\n",
      "|Heart Attack Risk (1: Yes)|count|\n",
      "+--------------------------+-----+\n",
      "|                         1|  925|\n",
      "|                         0| 1574|\n",
      "+--------------------------+-----+\n",
      "\n"
     ]
    }
   ],
   "source": [
    "# Perform value counts for the variable \"Heart Attack Risk (1: Yes)\"\n",
    "value_counts = data.groupBy(\"Heart Attack Risk (1: Yes)\").count()\n",
    "\n",
    "# Show the value counts\n",
    "value_counts.show()"
   ]
  },
  {
   "cell_type": "markdown",
   "id": "a11c3160",
   "metadata": {},
   "source": [
    "## Data Cleaning"
   ]
  },
  {
   "cell_type": "code",
   "execution_count": 6,
   "id": "79433057",
   "metadata": {},
   "outputs": [],
   "source": [
    "from pyspark.sql.functions import when\n",
    "\n",
    "# Calculate mode of the \"Stress Level\" column\n",
    "mode_value = data.groupBy(\"Stress Level\").count().orderBy(\"count\", ascending=False).first()[0]\n",
    "\n",
    "# Impute missing values with the mode\n",
    "data = data.withColumn(\"Stress Level\", when(data[\"Stress Level\"].isNull(), mode_value).otherwise(data[\"Stress Level\"]))"
   ]
  },
  {
   "cell_type": "code",
   "execution_count": 8,
   "id": "ce392e1e",
   "metadata": {},
   "outputs": [],
   "source": [
    "from pyspark.sql.functions import mean\n",
    "\n",
    "exercise_mean = data.select(mean(\"Exercise Hours Per Week\")).collect()[0][0]\n",
    "sedentary_mean = data.select(mean(\"Sedentary Hours Per Day\")).collect()[0][0]\n",
    "bmi_mean = data.select(mean(\"BMI\")).collect()[0][0]\n",
    "sleep_mean = data.select(mean(\"Sleep Hours Per Day\")).collect()[0][0]\n",
    "\n",
    "# Impute missing values with the mean for the \"age\" column\n",
    "data = data.withColumn(\"Exercise Hours Per Week\", when(data[\"Exercise Hours Per Week\"].isNull(), exercise_mean).otherwise(data[\"Exercise Hours Per Week\"]))\n",
    "data = data.withColumn(\"Sedentary Hours Per Day\", when(data[\"Sedentary Hours Per Day\"].isNull(), sedentary_mean).otherwise(data[\"Sedentary Hours Per Day\"]))\n",
    "data = data.withColumn(\"BMI\", when(data[\"BMI\"].isNull(), bmi_mean).otherwise(data[\"BMI\"]))\n",
    "data = data.withColumn(\"Sleep Hours Per Day\", when(data[\"Sleep Hours Per Day\"].isNull(), sleep_mean).otherwise(data[\"Sleep Hours Per Day\"]))"
   ]
  },
  {
   "cell_type": "code",
   "execution_count": 9,
   "id": "d44a8e23",
   "metadata": {},
   "outputs": [
    {
     "name": "stdout",
     "output_type": "stream",
     "text": [
      "++\n",
      "||\n",
      "++\n",
      "||\n",
      "++\n",
      "\n"
     ]
    }
   ],
   "source": [
    "from pyspark.sql.functions import col, sum as spark_sum\n",
    "\n",
    "# List of columns to check for missing values\n",
    "columns = data.columns\n",
    "\n",
    "# Create a DataFrame to store the count of missing values for each column\n",
    "missing_values = data.select([spark_sum(col(c).isNull().cast(\"int\")).alias(c) for c in columns])\n",
    "\n",
    "# Filter columns with missing values\n",
    "missing_columns = missing_values.columns\n",
    "missing_columns_with_values = [col_name for col_name in missing_columns if missing_values.select(col_name).head()[col_name] > 0]\n",
    "\n",
    "# Create a new DataFrame with columns that have missing values\n",
    "missing_values_filtered = missing_values.select(*missing_columns_with_values)\n",
    "\n",
    "# Show the count of missing values for columns with missing values\n",
    "missing_values_filtered.show()"
   ]
  },
  {
   "cell_type": "code",
   "execution_count": 10,
   "id": "1f6f208a",
   "metadata": {},
   "outputs": [
    {
     "name": "stdout",
     "output_type": "stream",
     "text": [
      "Number of rows: 2499\n",
      "Number of columns: 26\n"
     ]
    }
   ],
   "source": [
    "# Count the number of rows\n",
    "num_rows1 = data.count()\n",
    "\n",
    "# Count the number of columns\n",
    "num_columns1 = len(data.columns)\n",
    "\n",
    "# Print the results\n",
    "print(f\"Number of rows: {num_rows1}\")\n",
    "print(f\"Number of columns: {num_columns1}\")"
   ]
  },
  {
   "cell_type": "code",
   "execution_count": 11,
   "id": "3fbcf5b7",
   "metadata": {},
   "outputs": [],
   "source": [
    "data = data.filter(data[\"Heart Rate\"] != 200)\n",
    "data = data.filter(data[\"Exercise Hours Per Week\"] != 40.546388)\n",
    "data = data.filter(data[\"Stress Level\"] != 20)\n",
    "data = data.filter(data[\"Sleep Hours Per Day\"] != 20)"
   ]
  },
  {
   "cell_type": "code",
   "execution_count": 13,
   "id": "ce546156",
   "metadata": {},
   "outputs": [
    {
     "name": "stdout",
     "output_type": "stream",
     "text": [
      "Number of rows: 2495\n",
      "Number of columns: 26\n"
     ]
    }
   ],
   "source": [
    "# Print the results\n",
    "print(f\"Number of rows: {data.count()}\")\n",
    "print(f\"Number of columns: {len(data.columns)}\")"
   ]
  },
  {
   "cell_type": "code",
   "execution_count": 16,
   "id": "3dd32db4",
   "metadata": {},
   "outputs": [
    {
     "name": "stdout",
     "output_type": "stream",
     "text": [
      "No extreme values found for Age\n",
      "No extreme values found for Cholesterol\n",
      "No extreme values found for Systolic\n",
      "No extreme values found for Diastolic \n",
      "No extreme values found for Heart Rate\n",
      "No extreme values found for Diabetes\n",
      "No extreme values found for Family History (1: Yes)\n",
      "No extreme values found for Obesity\n",
      "No extreme values found for Alcohol Consumption\n",
      "No extreme values found for Exercise Hours Per Week\n",
      "No extreme values found for Previous Heart Problems (1 : Yes)\n",
      "No extreme values found for Medication Use\n",
      "No extreme values found for Stress Level\n",
      "No extreme values found for Sedentary Hours Per Day\n",
      "No extreme values found for Income\n",
      "No extreme values found for BMI\n",
      "No extreme values found for Triglycerides\n",
      "No extreme values found for Physical Activity Days Per Week\n",
      "No extreme values found for Sleep Hours Per Day\n",
      "No extreme values found for Heart Attack Risk (1: Yes)\n"
     ]
    }
   ],
   "source": [
    "from pyspark.sql.types import IntegerType, DoubleType, StructType, StructField, StringType\n",
    "\n",
    "# Function to find extreme values for a column\n",
    "\n",
    "def find_extreme_values(data, column):\n",
    "    # Calculate Q1 and Q3\n",
    "    quantiles = data.approxQuantile(column, [0.25, 0.75], 0.01)\n",
    "    Q1, Q3 = quantiles[0], quantiles[1]\n",
    "    IQR = Q3 - Q1\n",
    "    lower_bound = Q1 - 1.5 * IQR\n",
    "    upper_bound = Q3 + 1.5 * IQR\n",
    "    \n",
    "    # Filter extreme values\n",
    "    extreme_values_df = data.filter((col(column) < lower_bound) | (col(column) > upper_bound))\n",
    "    return extreme_values_df\n",
    "\n",
    "exclude_columns = [\"Smoking\"]\n",
    "\n",
    "# Iterate through each column and find extreme values if the column is numeric\n",
    "for column in data.columns:\n",
    "    if column not in exclude_columns and isinstance(data.schema[column].dataType, (IntegerType, DoubleType)):\n",
    "        extreme_values_df = find_extreme_values(data, column)\n",
    "        if extreme_values_df.count() > 0:\n",
    "            extreme_values = [row[column] for row in extreme_values_df.collect()]\n",
    "            for value in extreme_values:\n",
    "                print(f\"{column} has an extreme value: {value}\")\n",
    "        else:\n",
    "            print(f\"No extreme values found for {column}\")\n"
   ]
  },
  {
   "cell_type": "markdown",
   "id": "d6e5f303",
   "metadata": {},
   "source": [
    "## Construct of new variables / features"
   ]
  },
  {
   "cell_type": "code",
   "execution_count": 17,
   "id": "17e34314",
   "metadata": {},
   "outputs": [],
   "source": [
    "from pyspark.sql.functions import when\n",
    "\n",
    "# Create Age Group column based on age bins\n",
    "data = data.withColumn(\n",
    "    \"Age Group\",\n",
    "    when((col(\"Age\") >= 18) & (col(\"Age\") < 30), \"young adults\")\n",
    "    .when((col(\"Age\") >= 30) & (col(\"Age\") < 60), \"middle age\")\n",
    "    .when((col(\"Age\") >= 60) & (col(\"Age\") <= 103), \"old\")\n",
    ")"
   ]
  },
  {
   "cell_type": "code",
   "execution_count": 18,
   "id": "15cd210b",
   "metadata": {},
   "outputs": [
    {
     "name": "stdout",
     "output_type": "stream",
     "text": [
      "Number of columns: 27\n"
     ]
    }
   ],
   "source": [
    "print(f\"Number of columns: {len(data.columns)}\")"
   ]
  },
  {
   "cell_type": "code",
   "execution_count": 19,
   "id": "58387622",
   "metadata": {},
   "outputs": [
    {
     "name": "stdout",
     "output_type": "stream",
     "text": [
      "root\n",
      " |-- Age: integer (nullable = true)\n",
      " |-- Sex: string (nullable = true)\n",
      " |-- Cholesterol: integer (nullable = true)\n",
      " |-- Systolic: integer (nullable = true)\n",
      " |-- Diastolic : integer (nullable = true)\n",
      " |-- Heart Rate: integer (nullable = true)\n",
      " |-- Diabetes: integer (nullable = true)\n",
      " |-- Family History (1: Yes): integer (nullable = true)\n",
      " |-- Smoking: integer (nullable = true)\n",
      " |-- Obesity: integer (nullable = true)\n",
      " |-- Alcohol Consumption: integer (nullable = true)\n",
      " |-- Exercise Hours Per Week: double (nullable = true)\n",
      " |-- Diet: string (nullable = true)\n",
      " |-- Previous Heart Problems (1 : Yes): integer (nullable = true)\n",
      " |-- Medication Use: integer (nullable = true)\n",
      " |-- Stress Level: integer (nullable = true)\n",
      " |-- Sedentary Hours Per Day: double (nullable = true)\n",
      " |-- Income: integer (nullable = true)\n",
      " |-- BMI: double (nullable = true)\n",
      " |-- Triglycerides: integer (nullable = true)\n",
      " |-- Physical Activity Days Per Week: integer (nullable = true)\n",
      " |-- Sleep Hours Per Day: double (nullable = true)\n",
      " |-- Country: string (nullable = true)\n",
      " |-- Continent: string (nullable = true)\n",
      " |-- Hemisphere: string (nullable = true)\n",
      " |-- Heart Attack Risk (1: Yes): integer (nullable = true)\n",
      " |-- Age Group: string (nullable = true)\n",
      "\n"
     ]
    }
   ],
   "source": [
    "data.printSchema()"
   ]
  },
  {
   "cell_type": "code",
   "execution_count": 20,
   "id": "84ac1d6a",
   "metadata": {},
   "outputs": [
    {
     "name": "stdout",
     "output_type": "stream",
     "text": [
      "+------------+-----+\n",
      "|   Age Group|count|\n",
      "+------------+-----+\n",
      "|         old| 1045|\n",
      "|  middle age| 1001|\n",
      "|young adults|  449|\n",
      "+------------+-----+\n",
      "\n"
     ]
    }
   ],
   "source": [
    "# Perform value counts for the variable \"Heart Attack Risk (1: Yes)\"\n",
    "value_counts = data.groupBy(\"Age Group\").count()\n",
    "\n",
    "# Show the value counts\n",
    "value_counts.show()"
   ]
  },
  {
   "cell_type": "code",
   "execution_count": 25,
   "id": "481a5bd7",
   "metadata": {
    "scrolled": true
   },
   "outputs": [
    {
     "data": {
      "image/png": "[encoded data removed]",
      "text/plain": [
       "<Figure size 432x288 with 1 Axes>"
      ]
     },
     "metadata": {
      "needs_background": "light"
     },
     "output_type": "display_data"
    }
   ],
   "source": [
    "import matplotlib.pyplot as plt\n",
    "\n",
    "# Compute the distribution of the \"Country\" variable\n",
    "agegroup_distribution = data.groupBy(\"Age Group\").count()\n",
    "\n",
    "agegroup_distribution_local = agegroup_distribution.toLocalIterator()\n",
    "\n",
    "# Prepare data for plotting\n",
    "agegroup = []\n",
    "counts = []\n",
    "for row in agegroup_distribution_local:\n",
    "    agegroup.append(row[\"Age Group\"])\n",
    "    counts.append(row[\"count\"])\n",
    "\n",
    "# Plot the bar graph\n",
    "plt.bar(agegroup, counts, color='blue')\n",
    "plt.xlabel('Age Group')\n",
    "plt.ylabel('Count')\n",
    "plt.title('Distribution of Age Group')\n",
    "plt.tight_layout()  # Adjust subplots to fit into the figure area\n",
    "plt.show()"
   ]
  },
  {
   "cell_type": "code",
   "execution_count": 27,
   "id": "8bd4b5e1",
   "metadata": {},
   "outputs": [
    {
     "name": "stdout",
     "output_type": "stream",
     "text": [
      "+--------------------------+-----+-----------------+\n",
      "|Heart Attack Risk (1: Yes)|count|       percentage|\n",
      "+--------------------------+-----+-----------------+\n",
      "|                         1|  922|36.95390781563127|\n",
      "|                         0| 1573|63.04609218436874|\n",
      "+--------------------------+-----+-----------------+\n",
      "\n"
     ]
    }
   ],
   "source": [
    "from pyspark.sql.functions import count, lit\n",
    "\n",
    "# Perform value counts for the variable \"Heart Attack Risk (1: Yes)\"\n",
    "total_count = data.count()\n",
    "\n",
    "value_counts = data.groupBy(\"Heart Attack Risk (1: Yes)\").count()\n",
    "value_counts_percentage = value_counts.withColumn(\"percentage\", (col(\"count\") / total_count) * 100)\n",
    "\n",
    "# Show the value counts\n",
    "value_counts_percentage.show()"
   ]
  },
  {
   "cell_type": "code",
   "execution_count": 36,
   "id": "9a1c5a4b",
   "metadata": {},
   "outputs": [
    {
     "name": "stdout",
     "output_type": "stream",
     "text": [
      "+--------------------------+-----+\n",
      "|Heart Attack Risk (1: Yes)|count|\n",
      "+--------------------------+-----+\n",
      "|                         0|  936|\n",
      "|                         1|  922|\n",
      "+--------------------------+-----+\n",
      "\n"
     ]
    }
   ],
   "source": [
    "import random\n",
    "\n",
    "\n",
    "# Count the number of samples in each class\n",
    "class_counts = data.groupBy(\"Heart Attack Risk (1: Yes)\").count().collect()\n",
    "count_0 = next(row['count'] for row in class_counts if row['Heart Attack Risk (1: Yes)'] == 0)\n",
    "count_1 = next(row['count'] for row in class_counts if row['Heart Attack Risk (1: Yes)'] == 1)\n",
    "\n",
    "# Determine the minority and majority classes\n",
    "minority_class = 1 if count_1 < count_0 else 0\n",
    "majority_class = 0 if minority_class == 1 else 1\n",
    "minority_count = min(count_0, count_1)\n",
    "\n",
    "# Sample from the majority class\n",
    "majority_class_df = data.filter(col(\"Heart Attack Risk (1: Yes)\") == majority_class)\n",
    "sampled_majority_class_df = majority_class_df.sample(False, minority_count / count_0)\n",
    "\n",
    "# Get all minority class samples\n",
    "minority_class_df = data.filter(col(\"Heart Attack Risk (1: Yes)\") == minority_class)\n",
    "\n",
    "# Combine both classes to get a balanced DataFrame\n",
    "balanced_data = sampled_majority_class_df.union(minority_class_df)\n",
    "\n",
    "# Count the number of samples in each class in the balanced dataset\n",
    "balanced_class_counts = balanced_data.groupBy(\"Heart Attack Risk (1: Yes)\").count()\n",
    "balanced_class_counts.show()\n"
   ]
  },
  {
   "cell_type": "code",
   "execution_count": 38,
   "id": "4c34c08b",
   "metadata": {},
   "outputs": [],
   "source": [
    "# Save the balanced DataFrame to CSV\n",
    "#balanced_data.write.csv(\"balanced_heartdata.csv\", header=True)"
   ]
  },
  {
   "cell_type": "code",
   "execution_count": 43,
   "id": "70f3d334",
   "metadata": {},
   "outputs": [],
   "source": [
    "# Read in dataset\n",
    "balanced_data = spark.read.csv('Dataset/balanced_heartdata.csv', header=True, inferSchema=True)"
   ]
  },
  {
   "cell_type": "code",
   "execution_count": 44,
   "id": "c77f56a5",
   "metadata": {},
   "outputs": [
    {
     "name": "stdout",
     "output_type": "stream",
     "text": [
      "root\n",
      " |-- Age: integer (nullable = true)\n",
      " |-- Sex: string (nullable = true)\n",
      " |-- Cholesterol: integer (nullable = true)\n",
      " |-- Systolic: integer (nullable = true)\n",
      " |-- Diastolic: integer (nullable = true)\n",
      " |-- Heart Rate: integer (nullable = true)\n",
      " |-- Diabetes: integer (nullable = true)\n",
      " |-- Family History (1: Yes): integer (nullable = true)\n",
      " |-- Smoking: integer (nullable = true)\n",
      " |-- Obesity: integer (nullable = true)\n",
      " |-- Alcohol Consumption: integer (nullable = true)\n",
      " |-- Exercise Hours Per Week: double (nullable = true)\n",
      " |-- Diet: string (nullable = true)\n",
      " |-- Previous Heart Problems (1 : Yes): integer (nullable = true)\n",
      " |-- Medication Use: integer (nullable = true)\n",
      " |-- Stress Level: integer (nullable = true)\n",
      " |-- Sedentary Hours Per Day: double (nullable = true)\n",
      " |-- Income: integer (nullable = true)\n",
      " |-- BMI: double (nullable = true)\n",
      " |-- Triglycerides: integer (nullable = true)\n",
      " |-- Physical Activity Days Per Week: integer (nullable = true)\n",
      " |-- Sleep Hours Per Day: double (nullable = true)\n",
      " |-- Country: string (nullable = true)\n",
      " |-- Continent: string (nullable = true)\n",
      " |-- Hemisphere: string (nullable = true)\n",
      " |-- Heart Attack Risk (1: Yes): integer (nullable = true)\n",
      " |-- Age Group: string (nullable = true)\n",
      "\n"
     ]
    }
   ],
   "source": [
    "balanced_data.printSchema()"
   ]
  },
  {
   "cell_type": "code",
   "execution_count": 45,
   "id": "26cb7fe8",
   "metadata": {},
   "outputs": [
    {
     "name": "stdout",
     "output_type": "stream",
     "text": [
      "Number of rows: 1858\n",
      "Number of columns: 27\n"
     ]
    }
   ],
   "source": [
    "print(f\"Number of rows: {balanced_data.count()}\")\n",
    "print(f\"Number of columns: {len(balanced_data.columns)}\")"
   ]
  },
  {
   "cell_type": "markdown",
   "id": "e6ccfc77",
   "metadata": {},
   "source": [
    "## Data Integration"
   ]
  },
  {
   "cell_type": "code",
   "execution_count": 46,
   "id": "cec1aee7",
   "metadata": {},
   "outputs": [],
   "source": [
    "# Read in dataset\n",
    "file1 = spark.read.csv('Dataset/heart_data_10%(1).csv', header=True, inferSchema=True)\n",
    "file2 = spark.read.csv('Dataset/heart_data_10%(2).csv', header=True, inferSchema=True)"
   ]
  },
  {
   "cell_type": "code",
   "execution_count": 47,
   "id": "9137a4c9",
   "metadata": {},
   "outputs": [
    {
     "name": "stdout",
     "output_type": "stream",
     "text": [
      "Number of rows: 500\n",
      "Number of columns: 27\n",
      "Number of rows: 500\n",
      "Number of columns: 27\n"
     ]
    }
   ],
   "source": [
    "print(f\"Number of rows: {file1.count()}\")\n",
    "print(f\"Number of columns: {len(file1.columns)}\")\n",
    "\n",
    "print(f\"Number of rows: {file2.count()}\")\n",
    "print(f\"Number of columns: {len(file2.columns)}\")"
   ]
  },
  {
   "cell_type": "code",
   "execution_count": 48,
   "id": "143437b3",
   "metadata": {},
   "outputs": [],
   "source": [
    "# Merge vertically\n",
    "merge_data = file1.union(file2)"
   ]
  },
  {
   "cell_type": "code",
   "execution_count": 51,
   "id": "8d96b944",
   "metadata": {},
   "outputs": [
    {
     "name": "stdout",
     "output_type": "stream",
     "text": [
      "Number of rows: 1000\n",
      "Number of columns: 27\n"
     ]
    }
   ],
   "source": [
    "print(f\"Number of rows: {merge_data.count()}\")\n",
    "print(f\"Number of columns: {len(merge_data.columns)}\")"
   ]
  },
  {
   "cell_type": "code",
   "execution_count": 50,
   "id": "509c55d3",
   "metadata": {},
   "outputs": [],
   "source": [
    "# Save the balanced DataFrame to CSV\n",
    "#merge_data.write.csv(\"merge_data.csv\", header=True)"
   ]
  },
  {
   "cell_type": "markdown",
   "id": "310305f6",
   "metadata": {},
   "source": [
    "##  Reformatting data"
   ]
  },
  {
   "cell_type": "code",
   "execution_count": 52,
   "id": "509f8c10",
   "metadata": {},
   "outputs": [
    {
     "name": "stdout",
     "output_type": "stream",
     "text": [
      "root\n",
      " |-- Age: integer (nullable = true)\n",
      " |-- Sex: string (nullable = true)\n",
      " |-- Cholesterol: integer (nullable = true)\n",
      " |-- Systolic: integer (nullable = true)\n",
      " |-- Diastolic : integer (nullable = true)\n",
      " |-- Heart Rate: integer (nullable = true)\n",
      " |-- Diabetes: integer (nullable = true)\n",
      " |-- Family History (1: Yes): integer (nullable = true)\n",
      " |-- Smoking: integer (nullable = true)\n",
      " |-- Obesity: integer (nullable = true)\n",
      " |-- Alcohol Consumption: integer (nullable = true)\n",
      " |-- Exercise Hours Per Week: double (nullable = true)\n",
      " |-- Diet: string (nullable = true)\n",
      " |-- Previous Heart Problems (1 : Yes): integer (nullable = true)\n",
      " |-- Medication Use: integer (nullable = true)\n",
      " |-- Stress Level: integer (nullable = true)\n",
      " |-- Sedentary Hours Per Day: double (nullable = true)\n",
      " |-- Income: integer (nullable = true)\n",
      " |-- BMI: double (nullable = true)\n",
      " |-- Triglycerides: integer (nullable = true)\n",
      " |-- Physical Activity Days Per Week: integer (nullable = true)\n",
      " |-- Sleep Hours Per Day: integer (nullable = true)\n",
      " |-- Country: string (nullable = true)\n",
      " |-- Continent: string (nullable = true)\n",
      " |-- Hemisphere: string (nullable = true)\n",
      " |-- Heart Attack Risk (1: Yes): integer (nullable = true)\n",
      " |-- Age group: string (nullable = true)\n",
      "\n"
     ]
    }
   ],
   "source": [
    "merge_data.printSchema()"
   ]
  },
  {
   "cell_type": "code",
   "execution_count": 53,
   "id": "e3ce6e6b",
   "metadata": {},
   "outputs": [
    {
     "name": "stdout",
     "output_type": "stream",
     "text": [
      "++\n",
      "||\n",
      "++\n",
      "||\n",
      "++\n",
      "\n"
     ]
    }
   ],
   "source": [
    "from pyspark.sql.functions import col, sum as spark_sum\n",
    "\n",
    "# List of columns to check for missing values\n",
    "columns = merge_data.columns\n",
    "\n",
    "# Create a DataFrame to store the count of missing values for each column\n",
    "missing_values = merge_data.select([spark_sum(col(c).isNull().cast(\"int\")).alias(c) for c in columns])\n",
    "\n",
    "# Filter columns with missing values\n",
    "missing_columns = missing_values.columns\n",
    "missing_columns_with_values = [col_name for col_name in missing_columns if missing_values.select(col_name).head()[col_name] > 0]\n",
    "\n",
    "# Create a new DataFrame with columns that have missing values\n",
    "missing_values_filtered = missing_values.select(*missing_columns_with_values)\n",
    "\n",
    "# Show the count of missing values for columns with missing values\n",
    "missing_values_filtered.show()"
   ]
  }
 ],
 "metadata": {
  "kernelspec": {
   "display_name": "Python 3 (ipykernel)",
   "language": "python",
   "name": "python3"
  },
  "language_info": {
   "codemirror_mode": {
    "name": "ipython",
    "version": 3
   },
   "file_extension": ".py",
   "mimetype": "text/x-python",
   "name": "python",
   "nbconvert_exporter": "python",
   "pygments_lexer": "ipython3",
   "version": "3.10.4"
  }
 },
 "nbformat": 4,
 "nbformat_minor": 5
}
