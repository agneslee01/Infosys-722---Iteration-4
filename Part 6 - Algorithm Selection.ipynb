{
 "cells": [
  {
   "cell_type": "code",
   "execution_count": 1,
   "id": "2e4bf0ca",
   "metadata": {},
   "outputs": [
    {
     "name": "stderr",
     "output_type": "stream",
     "text": [
      "WARNING: An illegal reflective access operation has occurred\n",
      "WARNING: Illegal reflective access by org.apache.spark.unsafe.Platform (file:/home/ubuntu/spark-3.2.1-bin-hadoop2.7/jars/spark-unsafe_2.12-3.2.1.jar) to constructor java.nio.DirectByteBuffer(long,int)\n",
      "WARNING: Please consider reporting this to the maintainers of org.apache.spark.unsafe.Platform\n",
      "WARNING: Use --illegal-access=warn to enable warnings of further illegal reflective access operations\n",
      "WARNING: All illegal access operations will be denied in a future release\n",
      "Using Spark's default log4j profile: org/apache/spark/log4j-defaults.properties\n",
      "Setting default log level to \"WARN\".\n",
      "To adjust logging level use sc.setLogLevel(newLevel). For SparkR, use setLogLevel(newLevel).\n",
      "24/05/23 13:04:48 WARN NativeCodeLoader: Unable to load native-hadoop library for your platform... using builtin-java classes where applicable\n"
     ]
    }
   ],
   "source": [
    "import findspark\n",
    "findspark.init('/home/ubuntu/spark-3.2.1-bin-hadoop2.7')\n",
    "import pyspark\n",
    "from pyspark.sql import SparkSession\n",
    "spark = SparkSession.builder.appName('basics').getOrCreate()"
   ]
  },
  {
   "cell_type": "code",
   "execution_count": 2,
   "id": "c27a04b2",
   "metadata": {},
   "outputs": [],
   "source": [
    "# Read in dataset\n",
    "data = spark.read.csv('Dataset/new_data.csv', header=True, inferSchema=True)"
   ]
  },
  {
   "cell_type": "code",
   "execution_count": 3,
   "id": "e067c4e3",
   "metadata": {},
   "outputs": [
    {
     "name": "stdout",
     "output_type": "stream",
     "text": [
      "root\n",
      " |-- Heart Attack Risk (1: Yes): integer (nullable = true)\n",
      " |-- Income: integer (nullable = true)\n",
      " |-- Cholesterol: integer (nullable = true)\n",
      " |-- Country_indexed: integer (nullable = true)\n",
      " |-- Diastolic: integer (nullable = true)\n",
      " |-- Exercise Hours Per Week: double (nullable = true)\n",
      " |-- Heart Rate: integer (nullable = true)\n",
      " |-- Triglycerides: integer (nullable = true)\n",
      " |-- BMI: double (nullable = true)\n",
      " |-- Sedentary Hours Per Day: double (nullable = true)\n",
      " |-- Age: integer (nullable = true)\n",
      " |-- Stress Level: integer (nullable = true)\n",
      "\n"
     ]
    }
   ],
   "source": [
    "data.printSchema()"
   ]
  },
  {
   "cell_type": "markdown",
   "id": "0a0a7b3c",
   "metadata": {},
   "source": [
    "## Logistic Regression"
   ]
  },
  {
   "cell_type": "code",
   "execution_count": 5,
   "id": "611814ba",
   "metadata": {},
   "outputs": [
    {
     "name": "stdout",
     "output_type": "stream",
     "text": [
      "X_train count:  838\n",
      "y_train count:  838\n",
      "X_test count:  162\n",
      "y_test count:  162\n"
     ]
    }
   ],
   "source": [
    "from pyspark.sql.functions import col\n",
    "from pyspark.ml.feature import VectorAssembler\n",
    "\n",
    "# Assuming 'data' is your original DataFrame\n",
    "target_column = \"Heart Attack Risk (1: Yes)\"\n",
    "feature_columns = [col for col in data.columns if col != target_column]\n",
    "\n",
    "# Combine feature columns into a single vector column\n",
    "assembler = VectorAssembler(inputCols=feature_columns, outputCol=\"features\")\n",
    "data1 = assembler.transform(data).select(\"features\", target_column)\n",
    "\n",
    "# Split the assembled data into training and testing sets\n",
    "train_data, test_data = data1.randomSplit([0.8, 0.2], seed=42)\n",
    "\n",
    "# Separate features and target for training and testing sets\n",
    "X_train = train_data.select(\"features\")\n",
    "y_train = train_data.select(target_column)\n",
    "X_test = test_data.select(\"features\")\n",
    "y_test = test_data.select(target_column)\n",
    "\n",
    "# Show the count of rows in each set\n",
    "print(\"X_train count: \", X_train.count())\n",
    "print(\"y_train count: \", y_train.count())\n",
    "print(\"X_test count: \", X_test.count())\n",
    "print(\"y_test count: \", y_test.count())"
   ]
  },
  {
   "cell_type": "code",
   "execution_count": 6,
   "id": "34c611b5",
   "metadata": {},
   "outputs": [
    {
     "name": "stderr",
     "output_type": "stream",
     "text": [
      "24/05/23 13:04:59 WARN InstanceBuilder$NativeBLAS: Failed to load implementation from:dev.ludovic.netlib.blas.JNIBLAS\n",
      "24/05/23 13:04:59 WARN InstanceBuilder$NativeBLAS: Failed to load implementation from:dev.ludovic.netlib.blas.ForeignLinkerBLAS\n"
     ]
    },
    {
     "name": "stdout",
     "output_type": "stream",
     "text": [
      "Training Accuracy: 0.55\n",
      "Testing Accuracy: 0.49\n"
     ]
    }
   ],
   "source": [
    "from pyspark.ml.classification import LogisticRegression\n",
    "from pyspark.ml.evaluation import MulticlassClassificationEvaluator\n",
    "from pyspark.sql.functions import expr\n",
    "\n",
    "# Fit the Logistic Regression model\n",
    "lr = LogisticRegression(labelCol=target_column, featuresCol=\"features\")\n",
    "lr_model = lr.fit(train_data)\n",
    "\n",
    "# Make predictions on the training and testing sets\n",
    "train_predictions = lr_model.transform(train_data)\n",
    "test_predictions = lr_model.transform(test_data)\n",
    "\n",
    "# Define the evaluator for accuracy\n",
    "evaluator = MulticlassClassificationEvaluator(\n",
    "    labelCol=target_column, predictionCol=\"prediction\", metricName=\"accuracy\"\n",
    ")\n",
    "\n",
    "# Calculate accuracy scores for training and testing sets\n",
    "train_accuracy = evaluator.evaluate(train_predictions)\n",
    "test_accuracy = evaluator.evaluate(test_predictions)\n",
    "\n",
    "# Print accuracy scores\n",
    "print(f\"Training Accuracy: {train_accuracy:.2f}\")\n",
    "print(f\"Testing Accuracy: {test_accuracy:.2f}\")\n"
   ]
  },
  {
   "cell_type": "code",
   "execution_count": 7,
   "id": "6b65b40d",
   "metadata": {},
   "outputs": [
    {
     "name": "stderr",
     "output_type": "stream",
     "text": [
      "                                                                                \r"
     ]
    },
    {
     "name": "stdout",
     "output_type": "stream",
     "text": [
      "+-----------------------+-----------+\n",
      "|Feature                |Coefficient|\n",
      "+-----------------------+-----------+\n",
      "|Income                 |-1.0E-6    |\n",
      "|Cholesterol            |0.001431   |\n",
      "|Country_indexed        |2.9E-5     |\n",
      "|Diastolic              |-0.004038  |\n",
      "|Exercise Hours Per Week|-0.007842  |\n",
      "|Heart Rate             |0.001061   |\n",
      "|Triglycerides          |-2.17E-4   |\n",
      "|BMI                    |-0.008633  |\n",
      "|Sedentary Hours Per Day|0.007461   |\n",
      "|Age                    |0.006027   |\n",
      "|Stress Level           |0.03614    |\n",
      "+-----------------------+-----------+\n",
      "\n"
     ]
    }
   ],
   "source": [
    "# Extract feature coefficients\n",
    "coefficients = lr_model.coefficients\n",
    "intercept = lr_model.intercept\n",
    "\n",
    "# Convert feature coefficients to a DataFrame for better readability\n",
    "coefficients_df = spark.createDataFrame(\n",
    "    [(feature, round(float(coeff), 6)) for feature, coeff in zip(feature_columns, coefficients)],\n",
    "    [\"Feature\", \"Coefficient\"]\n",
    ")\n",
    "\n",
    "# Show feature coefficients\n",
    "coefficients_df.show(truncate=False)\n"
   ]
  },
  {
   "cell_type": "code",
   "execution_count": 8,
   "id": "832196d6",
   "metadata": {},
   "outputs": [
    {
     "name": "stdout",
     "output_type": "stream",
     "text": [
      "+----------+---+---+\n",
      "|prediction|  0|  1|\n",
      "+----------+---+---+\n",
      "|       0.0| 31| 33|\n",
      "|       1.0| 50| 48|\n",
      "+----------+---+---+\n",
      "\n"
     ]
    }
   ],
   "source": [
    "# Create a cross-tabulation of predicted vs. actual classes for the test set\n",
    "cross_tab = test_predictions.groupBy(\"prediction\").pivot(target_column).count()\n",
    "\n",
    "# Display the cross-tabulation\n",
    "cross_tab.show()"
   ]
  },
  {
   "cell_type": "markdown",
   "id": "917d39bb",
   "metadata": {},
   "source": [
    "## Decision tree"
   ]
  },
  {
   "cell_type": "code",
   "execution_count": 9,
   "id": "6cdace5a",
   "metadata": {},
   "outputs": [
    {
     "name": "stdout",
     "output_type": "stream",
     "text": [
      "Training Accuracy: 0.6444\n",
      "Testing Accuracy: 0.5123\n"
     ]
    }
   ],
   "source": [
    "from pyspark.ml.classification import DecisionTreeClassifier\n",
    "\n",
    "# Fit the Decision Tree model\n",
    "dt = DecisionTreeClassifier(labelCol=target_column, featuresCol=\"features\")\n",
    "dt_model = dt.fit(train_data)\n",
    "\n",
    "# Make predictions on the training and testing sets\n",
    "train_predictions = dt_model.transform(train_data)\n",
    "test_predictions = dt_model.transform(test_data)\n",
    "\n",
    "# Define the evaluator for accuracy\n",
    "evaluator = MulticlassClassificationEvaluator(\n",
    "    labelCol=target_column, predictionCol=\"prediction\", metricName=\"accuracy\"\n",
    ")\n",
    "\n",
    "# Calculate accuracy scores for training and testing sets\n",
    "train_accuracy = evaluator.evaluate(train_predictions)\n",
    "test_accuracy = evaluator.evaluate(test_predictions)\n",
    "\n",
    "# Print accuracy scores\n",
    "print(f\"Training Accuracy: {train_accuracy:.4f}\")\n",
    "print(f\"Testing Accuracy: {test_accuracy:.4f}\")"
   ]
  },
  {
   "cell_type": "code",
   "execution_count": 10,
   "id": "ffb84e8e",
   "metadata": {},
   "outputs": [
    {
     "name": "stdout",
     "output_type": "stream",
     "text": [
      "+-----------------------+----------+\n",
      "|Feature                |Importance|\n",
      "+-----------------------+----------+\n",
      "|Sedentary Hours Per Day|0.1724    |\n",
      "|BMI                    |0.1652    |\n",
      "|Exercise Hours Per Week|0.1141    |\n",
      "|Triglycerides          |0.1118    |\n",
      "|Cholesterol            |0.0947    |\n",
      "|Age                    |0.0927    |\n",
      "|Country_indexed        |0.0643    |\n",
      "|Heart Rate             |0.0591    |\n",
      "|Diastolic              |0.0508    |\n",
      "|Stress Level           |0.048     |\n",
      "|Income                 |0.0269    |\n",
      "+-----------------------+----------+\n",
      "\n"
     ]
    }
   ],
   "source": [
    "# Produce feature importance values\n",
    "importances = dt_model.featureImportances\n",
    "feature_importances = [(feature, round(float(importance), 4)) for feature, importance in zip(feature_columns, importances)]\n",
    "\n",
    "# Convert feature importances to a DataFrame\n",
    "importances_df = spark.createDataFrame(feature_importances, [\"Feature\", \"Importance\"])\n",
    "importances_df = importances_df.orderBy(col(\"Importance\").desc())\n",
    "\n",
    "\n",
    "# Show feature importances\n",
    "importances_df.show(truncate=False)"
   ]
  },
  {
   "cell_type": "code",
   "execution_count": 11,
   "id": "08f5c324",
   "metadata": {},
   "outputs": [
    {
     "name": "stdout",
     "output_type": "stream",
     "text": [
      "DecisionTreeClassificationModel: uid=DecisionTreeClassifier_60ab6c4d29b0, depth=5, numNodes=39, numClasses=2, numFeatures=11\n",
      "  If (feature 9 <= 67.5)\n",
      "   If (feature 1 <= 336.5)\n",
      "    If (feature 8 <= 10.94008116)\n",
      "     If (feature 3 <= 62.5)\n",
      "      If (feature 7 <= 35.123803734999996)\n",
      "       Predict: 1.0\n",
      "      Else (feature 7 > 35.123803734999996)\n",
      "       Predict: 0.0\n",
      "     Else (feature 3 > 62.5)\n",
      "      Predict: 0.0\n",
      "    Else (feature 8 > 10.94008116)\n",
      "     If (feature 4 <= 18.80534069)\n",
      "      If (feature 9 <= 28.5)\n",
      "       Predict: 0.0\n",
      "      Else (feature 9 > 28.5)\n",
      "       Predict: 1.0\n",
      "     Else (feature 4 > 18.80534069)\n",
      "      Predict: 0.0\n",
      "   Else (feature 1 > 336.5)\n",
      "    If (feature 6 <= 713.5)\n",
      "     If (feature 4 <= 2.6698620694999997)\n",
      "      If (feature 4 <= 0.660914234)\n",
      "       Predict: 1.0\n",
      "      Else (feature 4 > 0.660914234)\n",
      "       Predict: 0.0\n",
      "     Else (feature 4 > 2.6698620694999997)\n",
      "      Predict: 1.0\n",
      "    Else (feature 6 > 713.5)\n",
      "     Predict: 1.0\n",
      "  Else (feature 9 > 67.5)\n",
      "   If (feature 6 <= 766.0)\n",
      "    If (feature 8 <= 4.1592155245)\n",
      "     If (feature 10 <= 2.5)\n",
      "      If (feature 2 <= 1.5)\n",
      "       Predict: 0.0\n",
      "      Else (feature 2 > 1.5)\n",
      "       Predict: 1.0\n",
      "     Else (feature 10 > 2.5)\n",
      "      If (feature 5 <= 69.5)\n",
      "       Predict: 1.0\n",
      "      Else (feature 5 > 69.5)\n",
      "       Predict: 0.0\n",
      "    Else (feature 8 > 4.1592155245)\n",
      "     If (feature 7 <= 19.419461114999997)\n",
      "      If (feature 2 <= 2.5)\n",
      "       Predict: 1.0\n",
      "      Else (feature 2 > 2.5)\n",
      "       Predict: 0.0\n",
      "     Else (feature 7 > 19.419461114999997)\n",
      "      Predict: 1.0\n",
      "   Else (feature 6 > 766.0)\n",
      "    If (feature 8 <= 7.744321069)\n",
      "     Predict: 0.0\n",
      "    Else (feature 8 > 7.744321069)\n",
      "     If (feature 0 <= 36136.0)\n",
      "      Predict: 0.0\n",
      "     Else (feature 0 > 36136.0)\n",
      "      Predict: 1.0\n",
      "\n"
     ]
    }
   ],
   "source": [
    "from pyspark.ml.classification import DecisionTreeClassificationModel\n",
    "\n",
    "def extract_rules(tree_model):\n",
    "    # Get the debug string\n",
    "    tree_debug_string = tree_model._java_obj.toDebugString()\n",
    "\n",
    "    # Print the debug string for debugging\n",
    "    print(tree_debug_string)\n",
    "\n",
    "    # Split the debug string by line and remove empty lines\n",
    "    lines = filter(None, tree_debug_string.split(\"\\n\"))\n",
    "\n",
    "    # Initialize an empty list to store the rules\n",
    "    rules = []\n",
    "\n",
    "    # Iterate through each line in the debug string\n",
    "    for line in lines:\n",
    "        # Skip lines that don't represent decision nodes\n",
    "        if not line.startswith(\"If\") and not line.startswith(\"Else\"):\n",
    "            continue\n",
    "        \n",
    "        # Extract the rule from the line\n",
    "        rule = line.strip().replace(\"(\", \"\").replace(\")\", \"\").replace(\"feature \", \"\").replace(\"<=\", \"<=\").replace(\">\", \">\").replace(\" AND\", \" and\").replace(\" OR\", \" or\")\n",
    "        rules.append(rule)\n",
    "    \n",
    "    return rules\n",
    "\n",
    "# Assuming dt_model is your trained DecisionTreeClassificationModel\n",
    "rules = extract_rules(dt_model)\n",
    "\n",
    "# Print the rules\n",
    "for rule in rules:\n",
    "    print(rule)"
   ]
  },
  {
   "cell_type": "code",
   "execution_count": 12,
   "id": "95e0b49c",
   "metadata": {},
   "outputs": [
    {
     "name": "stdout",
     "output_type": "stream",
     "text": [
      "+----------+---+---+\n",
      "|prediction|  0|  1|\n",
      "+----------+---+---+\n",
      "|       0.0| 40| 38|\n",
      "|       1.0| 41| 43|\n",
      "+----------+---+---+\n",
      "\n"
     ]
    }
   ],
   "source": [
    "# Create a cross-tabulation of predicted vs. actual classes for the test set\n",
    "cross_tab = test_predictions.groupBy(\"prediction\").pivot(target_column).count()\n",
    "\n",
    "# Display the cross-tabulation\n",
    "cross_tab.show()"
   ]
  },
  {
   "cell_type": "markdown",
   "id": "a88fcbd6",
   "metadata": {},
   "source": [
    "## Association"
   ]
  },
  {
   "cell_type": "code",
   "execution_count": 13,
   "id": "6bbc4cc3",
   "metadata": {},
   "outputs": [],
   "source": [
    "from pyspark.sql.functions import array, col, concat_ws\n",
    "\n",
    "# Combine all columns into a single column containing the items for each transaction\n",
    "data2 = data.withColumn(\"items\", concat_ws(\",\", *data.columns))\n",
    "\n",
    "# Select only the items column\n",
    "transaction_data = data2.select(\"items\")"
   ]
  },
  {
   "cell_type": "code",
   "execution_count": 14,
   "id": "88bd0d93",
   "metadata": {},
   "outputs": [
    {
     "name": "stderr",
     "output_type": "stream",
     "text": [
      "/home/ubuntu/spark-3.2.1-bin-hadoop2.7/python/pyspark/sql/context.py:125: FutureWarning: Deprecated in 3.0.0. Use SparkSession.builder.getOrCreate() instead.\n",
      "  warnings.warn(\n",
      "/home/ubuntu/spark-3.2.1-bin-hadoop2.7/python/pyspark/sql/column.py:322: FutureWarning: A column as 'key' in getItem is deprecated as of Spark 3.0, and will not be supported in the future release. Use `column[key]` or `column.key` syntax instead.\n",
      "  warnings.warn(\n"
     ]
    },
    {
     "name": "stdout",
     "output_type": "stream",
     "text": [
      "+-------------------+-------------------+-------+--------------------------+--------------------------+\n",
      "|confidence         |lift               |support|antecedent_feature        |consequent_feature        |\n",
      "+-------------------+-------------------+-------+--------------------------+--------------------------+\n",
      "|0.20342205323193915|0.3501240158897404 |0.107  |Heart Attack Risk (1: Yes)|Income                    |\n",
      "|0.6024096385542169 |1.036849636065778  |0.1    |Heart Rate                |Income                    |\n",
      "|0.1721170395869191 |1.0368496360657777 |0.1    |Income                    |Heart Rate                |\n",
      "|0.18416523235800344|0.35012401588974035|0.107  |Income                    |Heart Attack Risk (1: Yes)|\n",
      "+-------------------+-------------------+-------+--------------------------+--------------------------+\n",
      "\n"
     ]
    }
   ],
   "source": [
    "from pyspark.ml.fpm import FPGrowth\n",
    "from pyspark.sql.functions import split, array_distinct\n",
    "from pyspark.sql.functions import col, create_map, lit\n",
    "from itertools import chain\n",
    "\n",
    "\n",
    "# Split the concatenated string into an array of items\n",
    "transaction_data = data2.withColumn(\"items\", split(\"items\", \",\"))\n",
    "\n",
    "# Deduplicate the items within each transaction\n",
    "transaction_data = transaction_data.withColumn(\"items\", array_distinct(\"items\"))\n",
    "\n",
    "# Create an FPGrowth object\n",
    "fp_growth = FPGrowth(itemsCol=\"items\", minSupport=0.1, minConfidence=0.1)\n",
    "\n",
    "# Fit the FPGrowth model\n",
    "model = fp_growth.fit(transaction_data)\n",
    "\n",
    "# Get the frequent itemsets\n",
    "frequent_itemsets = model.freqItemsets\n",
    "\n",
    "# Get the association rules\n",
    "association_rules = model.associationRules\n",
    "\n",
    "# Define a mapping dictionary for feature names\n",
    "feature_map = {\n",
    "    0: \"Heart Attack Risk (1: Yes)\",\n",
    "    1: \"Income\",\n",
    "    2: \"Cholesterol\",\n",
    "    3: \"Country_indexed\",\n",
    "    4: \"Diastolic\",\n",
    "    5: \"Exercise Hours Per Week\",\n",
    "    6: \"Heart Rate\",\n",
    "    7: \"Triglycerides\",\n",
    "    8: \"BMI\",\n",
    "    9: \"Sedentary Hours Per Day\",\n",
    "    10: \"Age\",\n",
    "    11: \"Stress Level\",\n",
    "}\n",
    "\n",
    "# Convert the mapping dictionary to a Spark DataFrame column\n",
    "mapping_expr = create_map([lit(x) for x in chain(*feature_map.items())])\n",
    "\n",
    "# Apply the mapping to the antecedent and consequent columns\n",
    "association_rules_mapped = association_rules.withColumn(\n",
    "    \"antecedent_feature\", mapping_expr.getItem(col(\"antecedent\")[0])\n",
    ").withColumn(\n",
    "    \"consequent_feature\", mapping_expr.getItem(col(\"consequent\")[0])\n",
    ").drop(\"antecedent\", \"consequent\")\n",
    "\n",
    "# Show the association rules with feature names\n",
    "association_rules_mapped.show(truncate=False)\n",
    "\n"
   ]
  },
  {
   "cell_type": "markdown",
   "id": "2a342704",
   "metadata": {},
   "source": [
    "## Two-Step Clustering"
   ]
  },
  {
   "cell_type": "code",
   "execution_count": 17,
   "id": "c744b968",
   "metadata": {},
   "outputs": [
    {
     "name": "stdout",
     "output_type": "stream",
     "text": [
      "Silhouette Score for Train Data: 0.7501455549984403\n",
      "Silhouette Score for Test Data: 0.763603385563619\n"
     ]
    }
   ],
   "source": [
    "from pyspark.ml.clustering import KMeans\n",
    "from pyspark.ml.evaluation import ClusteringEvaluator\n",
    "from pyspark.ml.feature import VectorAssembler\n",
    "from pyspark.ml import Pipeline\n",
    "\n",
    "# Define your clustering model\n",
    "kmeans = KMeans().setK(3).setSeed(42)  # Example: 3 clusters, seed for reproducibility\n",
    "\n",
    "# Pipeline to assemble features and fit KMeans model\n",
    "pipeline1 = Pipeline(stages=[assembler, kmeans])\n",
    "\n",
    "train_data1, test_data1 = data.randomSplit([0.8, 0.2], seed=42)\n",
    "\n",
    "# Fit the pipeline to the train data\n",
    "model1 = pipeline1.fit(train_data1)\n",
    "\n",
    "# Make predictions on both train and test data\n",
    "train_predictions1 = model1.transform(train_data1)\n",
    "test_predictions1 = model1.transform(test_data1)\n",
    "\n",
    "# Evaluate clustering performance using silhouette score\n",
    "evaluator = ClusteringEvaluator()\n",
    "\n",
    "# Compute silhouette score for train data\n",
    "train_silhouette_score = evaluator.evaluate(train_predictions1)\n",
    "print(\"Silhouette Score for Train Data:\", train_silhouette_score)\n",
    "\n",
    "# Compute silhouette score for test data\n",
    "test_silhouette_score = evaluator.evaluate(test_predictions1)\n",
    "print(\"Silhouette Score for Test Data:\", test_silhouette_score)"
   ]
  },
  {
   "cell_type": "code",
   "execution_count": 18,
   "id": "25ce3910",
   "metadata": {},
   "outputs": [
    {
     "name": "stdout",
     "output_type": "stream",
     "text": [
      "Silhouette Score: 0.7534453958119569\n"
     ]
    },
    {
     "data": {
      "image/png": "[encoded data removed]",
      "text/plain": [
       "<Figure size 432x288 with 1 Axes>"
      ]
     },
     "metadata": {},
     "output_type": "display_data"
    }
   ],
   "source": [
    "import matplotlib.pyplot as plt\n",
    "from pyspark.ml.clustering import KMeans\n",
    "from pyspark.ml.evaluation import ClusteringEvaluator\n",
    "from pyspark.ml.feature import VectorAssembler\n",
    "\n",
    "# Fit KMeans model\n",
    "kmeans = KMeans().setK(3).setSeed(42)  # 3 clusters, seed for reproducibility\n",
    "pipeline = Pipeline(stages=[assembler, kmeans])\n",
    "model = pipeline.fit(data)\n",
    "\n",
    "# Make predictions\n",
    "predictions = model.transform(data)\n",
    "\n",
    "# Evaluate clustering performance using silhouette score\n",
    "evaluator = ClusteringEvaluator()\n",
    "silhouette_score = evaluator.evaluate(predictions)\n",
    "print(\"Silhouette Score:\", silhouette_score)\n",
    "\n",
    "# Get count of samples in each cluster\n",
    "cluster_counts = predictions.groupBy('prediction').count().orderBy('prediction').collect()\n",
    "\n",
    "# Plot count of samples in each cluster\n",
    "labels = [f\"Cluster {row['prediction']}\" for row in cluster_counts]\n",
    "sizes = [row['count'] for row in cluster_counts]\n",
    "plt.pie(sizes, labels=labels, autopct='%1.1f%%', startangle=140)\n",
    "plt.axis('equal')\n",
    "plt.title('Count of Samples in Each Cluster')\n",
    "plt.show()\n"
   ]
  },
  {
   "cell_type": "code",
   "execution_count": 19,
   "id": "b7099c2e",
   "metadata": {},
   "outputs": [
    {
     "data": {
      "image/png": "[encoded data removed]",
      "text/plain": [
       "<Figure size 1080x720 with 12 Axes>"
      ]
     },
     "metadata": {
      "needs_background": "light"
     },
     "output_type": "display_data"
    }
   ],
   "source": [
    "# Draw boxplot for each variable in each cluster (showing only the first 4 features)\n",
    "num_clusters = 3  # Assuming 3 clusters\n",
    "num_features = 4  # Show boxplots for the first 4 features\n",
    "fig, axes = plt.subplots(num_features, num_clusters, figsize=(15, 10))\n",
    "\n",
    "\n",
    "# Select only the first 4 features\n",
    "feature_columns_subset = feature_columns[:num_features]\n",
    "\n",
    "for i, feature in enumerate(feature_columns_subset):\n",
    "    for j in range(num_clusters):\n",
    "        cluster_data = predictions.filter(predictions[\"prediction\"] == j).select(feature)\n",
    "        cluster_values = [row[feature] for row in cluster_data.collect()]\n",
    "        axes[i, j].boxplot(cluster_values)\n",
    "        axes[i, j].set_title(f'Cluster {j}')\n",
    "        axes[i, j].set_xlabel(feature)\n",
    "        axes[i, j].set_ylabel('Values')\n",
    "\n",
    "plt.tight_layout()\n",
    "plt.show()"
   ]
  }
 ],
 "metadata": {
  "kernelspec": {
   "display_name": "Python 3 (ipykernel)",
   "language": "python",
   "name": "python3"
  },
  "language_info": {
   "codemirror_mode": {
    "name": "ipython",
    "version": 3
   },
   "file_extension": ".py",
   "mimetype": "text/x-python",
   "name": "python",
   "nbconvert_exporter": "python",
   "pygments_lexer": "ipython3",
   "version": "3.10.4"
  }
 },
 "nbformat": 4,
 "nbformat_minor": 5
}
